{
  "nbformat": 4,
  "nbformat_minor": 0,
  "metadata": {
    "colab": {
      "provenance": []
    },
    "kernelspec": {
      "name": "python3",
      "display_name": "Python 3"
    },
    "language_info": {
      "name": "python"
    }
  },
  "cells": [
    {
      "cell_type": "markdown",
      "source": [
        "### Few-Shot Prompting"
      ],
      "metadata": {
        "id": "z9PzTgskucvX"
      }
    },
    {
      "cell_type": "markdown",
      "source": [
        "Few-Shot Prompting is a technique in prompt engineering where you provide the model with a few examples (typically 2–5) of how you want it to behave or format its output — right within the prompt. This helps the model understand the pattern and generalize to new inputs."
      ],
      "metadata": {
        "id": "1njjv-n4tLLP"
      }
    },
    {
      "cell_type": "markdown",
      "source": [
        "### Why It's Useful:\n"
      ],
      "metadata": {
        "id": "aLlc_iSNtXq7"
      }
    },
    {
      "cell_type": "markdown",
      "source": [
        "Language models like GPT-4 are trained using a next-word prediction objective. If you show them a few examples of input-output pairs, they can infer the structure, logic, or tone you want — even without being explicitly told."
      ],
      "metadata": {
        "id": "o59x-nqatZxK"
      }
    },
    {
      "cell_type": "code",
      "source": [
        "Input: [Example 1 input]\n",
        "Output: [Example 1 output]\n",
        "\n",
        "Input: [Example 2 input]\n",
        "Output: [Example 2 output]\n",
        "\n",
        "Input: [Your actual input]\n",
        "Output:"
      ],
      "metadata": {
        "id": "1rWz3832tq0X"
      },
      "execution_count": null,
      "outputs": []
    },
    {
      "cell_type": "markdown",
      "source": [
        "The model is expected to complete the last out put based on the pattern"
      ],
      "metadata": {
        "id": "gXSPhzCftfZW"
      }
    },
    {
      "cell_type": "code",
      "source": [
        "Input: I love this movie!\n",
        "Output: Positive\n",
        "\n",
        "Input: This product is terrible.\n",
        "Output: Negative\n",
        "\n",
        "Input: The weather is okay today.\n",
        "Output:\n"
      ],
      "metadata": {
        "id": "i8xiPRU2txK6"
      },
      "execution_count": null,
      "outputs": []
    },
    {
      "cell_type": "markdown",
      "source": [
        "Output: Neutral"
      ],
      "metadata": {
        "id": "o1ajMinztwi4"
      }
    }
  ]
}
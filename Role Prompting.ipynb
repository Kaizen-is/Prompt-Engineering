{
  "nbformat": 4,
  "nbformat_minor": 0,
  "metadata": {
    "colab": {
      "provenance": []
    },
    "kernelspec": {
      "name": "python3",
      "display_name": "Python 3"
    },
    "language_info": {
      "name": "python"
    }
  },
  "cells": [
    {
      "cell_type": "markdown",
      "source": [
        "### Role Prompting"
      ],
      "metadata": {
        "id": "z9PzTgskucvX"
      }
    },
    {
      "cell_type": "markdown",
      "source": [
        "Role Prompting is a technique in prompt engineering where you explicitly assign a role or identity to the AI in your prompt, guiding it to behave in a certain way or adopt specific knowledge, tone, or perspective. This method helps to steer the model’s behavior, making its responses more aligned with the user's intent."
      ],
      "metadata": {
        "id": "1njjv-n4tLLP"
      }
    },
    {
      "cell_type": "markdown",
      "source": [
        "### Why Role Prompting Works:"
      ],
      "metadata": {
        "id": "aLlc_iSNtXq7"
      }
    },
    {
      "cell_type": "markdown",
      "source": [
        "Language models like ChatGPT are trained on a vast range of texts where roles and personas are used (e.g., \"As a doctor, I recommend...\"). When you assign a role, the model mimics how someone in that role might respond, drawing from patterns in its training data."
      ],
      "metadata": {
        "id": "o59x-nqatZxK"
      }
    },
    {
      "cell_type": "markdown",
      "source": [
        "### General Format:\n"
      ],
      "metadata": {
        "id": "k9W41xUHu0Cn"
      }
    },
    {
      "cell_type": "markdown",
      "source": [
        "\"Act as a [role]\"\n",
        "\n",
        "or\n",
        "\n",
        "\"You are a [profession/expert/character]...\""
      ],
      "metadata": {
        "id": "0nlYicx0u3Bh"
      }
    },
    {
      "cell_type": "markdown",
      "source": [
        "### Examples of Role Prompting:\n"
      ],
      "metadata": {
        "id": "bgeQKnNNu6eE"
      }
    },
    {
      "cell_type": "markdown",
      "source": [
        "1. Technical Expert Role\n",
        "\"You are a senior data scientist. Explain the difference between supervised and unsupervised learning to a beginner.\"\n",
        "➡️ This makes the model explain in a professional yet accessible way."
      ],
      "metadata": {
        "id": "KzvzPKTOu82s"
      }
    }
  ]
}